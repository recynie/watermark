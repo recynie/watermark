{
 "cells": [
  {
   "cell_type": "code",
   "execution_count": null,
   "metadata": {},
   "outputs": [
    {
     "name": "stderr",
     "output_type": "stream",
     "text": [
      "/home/aroma/miniconda3/envs/wm/lib/python3.9/site-packages/tqdm/auto.py:21: TqdmWarning: IProgress not found. Please update jupyter and ipywidgets. See https://ipywidgets.readthedocs.io/en/stable/user_install.html\n",
      "  from .autonotebook import tqdm as notebook_tqdm\n"
     ]
    }
   ],
   "source": [
    "import torch\n",
    "from watermark.auto_watermark import AutoWatermark\n",
    "from utils.transformers_config import TransformersConfig\n",
    "from transformers import AutoModelForCausalLM, AutoTokenizer\n",
    "# Device\n",
    "device = \"cuda\" if torch.cuda.is_available() else \"cpu\"\n",
    "sdfioghsiolfhjoi"
   ]
  },
  {
   "cell_type": "code",
   "execution_count": 2,
   "metadata": {},
   "outputs": [],
   "source": [
    "# Transformers config\n",
    "transformers_config = TransformersConfig(\n",
    "    model=AutoModelForCausalLM.from_pretrained('facebook/opt-1.3b').to(device),\n",
    "    tokenizer=AutoTokenizer.from_pretrained('facebook/opt-1.3b'),\n",
    "    vocab_size=50272,\n",
    "    device=device,\n",
    "    max_new_tokens=200,\n",
    "    min_length=204,\n",
    "    do_sample=True,\n",
    "    no_repeat_ngram_size=4\n",
    ")\n",
    " "
   ]
  },
  {
   "cell_type": "code",
   "execution_count": 3,
   "metadata": {},
   "outputs": [],
   "source": [
    " \n",
    "# Load watermark algorithm\n",
    "myWatermark = AutoWatermark.load(\n",
    "    'KGW', \n",
    "    algorithm_config='config/KGW.json',\n",
    "    transformers_config=transformers_config\n",
    ")\n"
   ]
  },
  {
   "cell_type": "code",
   "execution_count": 4,
   "metadata": {},
   "outputs": [],
   "source": [
    "# Prompt\n",
    "prompt = 'Good Morning.'\n",
    "\n",
    "# Generate and detect\n",
    "watermarked_text = myWatermark.generate_watermarked_text(prompt)\n",
    "wm_detect_result = myWatermark.detect_watermark(watermarked_text)\n",
    "unwatermarked_text = myWatermark.generate_unwatermarked_text(prompt)\n",
    "unwm_detect_result = myWatermark.detect_watermark(unwatermarked_text)\n"
   ]
  },
  {
   "cell_type": "code",
   "execution_count": 5,
   "metadata": {},
   "outputs": [
    {
     "name": "stdout",
     "output_type": "stream",
     "text": [
      "Good Morning. I want to get away from this place too, but can't seem to get up the courage to do so or just ignore her for a bit.  My current state of thinking is; why even try, it isn't my personality, so why force my hand and see where it takes me.\n",
      "Yea your definitely correct. Its hard at the beginning of the cycle. As you move through it gets easier.\n",
      "Yes, I hope to! Don't have a problem getting up, but the thought just creeps up, so I never do.  One of the people I really like, also likes me, though she wouldn't get with me for being trans. That makes me feel weird, but also feels good on its own.  I think we might be able to get together one more time, but I dunno if she will like that idea. I don't know if she would if I asked, I feel like if she likes me then she would let me.  Not looking\n",
      "{'is_watermarked': True, 'score': 9.709646117278028}\n"
     ]
    }
   ],
   "source": [
    "print(watermarked_text)\n",
    "print(wm_detect_result)\n"
   ]
  },
  {
   "cell_type": "code",
   "execution_count": null,
   "metadata": {},
   "outputs": [],
   "source": []
  },
  {
   "cell_type": "code",
   "execution_count": 6,
   "metadata": {},
   "outputs": [
    {
     "name": "stdout",
     "output_type": "stream",
     "text": [
      "Good Morning.\n",
      "Hi, beautiful.\n",
      "Good morning.\n",
      "Look good?\n",
      "I hope I look good.\n",
      "This is the dress?\n",
      "I tried things on yesterday, but...\n",
      "You'll never know.\n",
      "Just stay focused.\n",
      "So I'm out of breath.\n",
      "I'm sure you have a beautiful face, but that was a little bit embarrassing for a first date.\n",
      "You don't have to tell me that.\n",
      "She's the one who's embarrassed, not me.\n",
      "I just need to know if your dress will hold you up.\n",
      "I still think it's silly that you wore a tutu.\n",
      "I guess he didn't understand.\n",
      "That's fine.\n",
      "But I think it's kind of cute in its way.\n",
      "Don't you?\n",
      "Mm-mmm.\n",
      "I can't wait to see what you wear.\n",
      "So you're not going to wear that?\n",
      "Not yet.\n",
      "You're just...\n",
      "You really like it too,\n",
      "{'is_watermarked': False, 'score': 2.3922316520829923}\n"
     ]
    }
   ],
   "source": [
    "print(unwatermarked_text)\n",
    "print(unwm_detect_result)"
   ]
  },
  {
   "cell_type": "code",
   "execution_count": 7,
   "metadata": {},
   "outputs": [],
   "source": [
    "with open('test.output.txt','w') as f:\n",
    "    l=[watermarked_text,wm_detect_result,unwatermarked_text,unwm_detect_result]\n",
    "    l=[str(item) for item in l]\n",
    "    f.write('\\n'.join(l))"
   ]
  }
 ],
 "metadata": {
  "kernelspec": {
   "display_name": "wm",
   "language": "python",
   "name": "python3"
  },
  "language_info": {
   "codemirror_mode": {
    "name": "ipython",
    "version": 3
   },
   "file_extension": ".py",
   "mimetype": "text/x-python",
   "name": "python",
   "nbconvert_exporter": "python",
   "pygments_lexer": "ipython3",
   "version": "3.9.20"
  }
 },
 "nbformat": 4,
 "nbformat_minor": 2
}
