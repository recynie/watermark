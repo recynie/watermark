{
 "cells": [
  {
   "cell_type": "code",
   "execution_count": 1,
   "metadata": {},
   "outputs": [],
   "source": [
    "import os\n",
    "\n",
    "dir='/root/autodl-tmp/cache/'\n",
    "os.environ[\"HF_DATASETS_CACHE\"] = dir\n",
    "os.environ[\"HF_HOME\"] = dir\n",
    "os.environ[\"HUGGINGFACE_HUB_CACHE\"] = dir\n",
    "os.environ[\"TRANSFORMERS_CACHE\"] = dir\n",
    "os.environ[\"HF_ENDPOINT\"]='https://hf-mirror.com'\n",
    "\n",
    "import torch\n",
    "from watermark.auto_watermark import AutoWatermark\n",
    "from utils.transformers_config import TransformersConfig\n",
    "from transformers import AutoModelForCausalLM, AutoTokenizer\n",
    "# Device\n",
    "device = \"cuda\" if torch.cuda.is_available() else \"cpu\"\n"
   ]
  },
  {
   "cell_type": "code",
   "execution_count": null,
   "metadata": {},
   "outputs": [],
   "source": [
    "transformers_config = TransformersConfig(\n",
    "    model=AutoModelForCausalLM.from_pretrained('Qwen/Qwen2.5-0.5B').to(device),\n",
    "    tokenizer=AutoTokenizer.from_pretrained('Qwen/Qwen2.5-0.5B'),\n",
    "    # vocab_size=50272,\n",
    "    device=device,\n",
    "    max_new_tokens=100,\n",
    "    min_length=20,\n",
    "    do_sample=True,\n",
    "    # no_repeat_ngram_size=4\n",
    ")\n"
   ]
  },
  {
   "cell_type": "code",
   "execution_count": 4,
   "metadata": {},
   "outputs": [],
   "source": [
    "wm1 = AutoWatermark.load(\n",
    "    'KGW', \n",
    "    algorithm_config='config/KGW.json',\n",
    "    transformers_config=transformers_config\n",
    ")\n",
    "# wm2 = AutoWatermark.load(\n",
    "#     'KGW', \n",
    "#     algorithm_config='config/KGW_.json',\n",
    "#     transformers_config=transformers_config\n",
    "# )\n"
   ]
  },
  {
   "cell_type": "code",
   "execution_count": null,
   "metadata": {},
   "outputs": [],
   "source": [
    "import paraphrasing\n",
    "prompt1 =\"Paris is a city with \"\n",
    "wm=paraphrasing.Watermarker(wm1)\n",
    "wm1_ans,sc = wm.generate_wm_text(prompt1)\n",
    "print(wm1_ans)\n",
    "print(sc)"
   ]
  },
  {
   "cell_type": "code",
   "execution_count": null,
   "metadata": {},
   "outputs": [],
   "source": [
    "paraphraser=paraphrasing.ParaphrasingAttacker(config='config/Qwen.toml')\n",
    "# print(paraphraser.args)\n",
    "ans=paraphraser.pipeline_paraphrase(wm1_ans)\n",
    "print(ans)\n",
    "para_sc=wm.detect_score(ans)\n",
    "print(para_sc)"
   ]
  },
  {
   "cell_type": "code",
   "execution_count": null,
   "metadata": {},
   "outputs": [],
   "source": [
    "paraphrasing.Watermarker.contact_viz(\n",
    "    wm.viz(wm1_ans,savepath='viz/KGW_pre.png'),\n",
    "    wm.viz(ans,savepath='viz/KGW_post.png')\n",
    ")"
   ]
  },
  {
   "cell_type": "code",
   "execution_count": 8,
   "metadata": {},
   "outputs": [],
   "source": [
    "import pandas as pd\n",
    "d=dict(\n",
    "    ori_text=[wm1_ans],\n",
    "    ori_score=[sc],\n",
    "    para_text=[ans],\n",
    "    para_score=[para_sc],\n",
    "    \n",
    ")\n",
    "df=pd.DataFrame(d)\n",
    "df.to_csv('paraphrase_attack.csv')"
   ]
  }
 ],
 "metadata": {
  "kernelspec": {
   "display_name": "base",
   "language": "python",
   "name": "python3"
  },
  "language_info": {
   "codemirror_mode": {
    "name": "ipython",
    "version": 3
   },
   "file_extension": ".py",
   "mimetype": "text/x-python",
   "name": "python",
   "nbconvert_exporter": "python",
   "pygments_lexer": "ipython3",
   "version": "3.12.3"
  }
 },
 "nbformat": 4,
 "nbformat_minor": 2
}
