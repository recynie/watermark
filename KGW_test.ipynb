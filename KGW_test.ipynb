{
 "cells": [
  {
   "cell_type": "markdown",
   "metadata": {},
   "source": [
    "## Generate Text"
   ]
  },
  {
   "cell_type": "code",
   "execution_count": 1,
   "metadata": {},
   "outputs": [
    {
     "name": "stderr",
     "output_type": "stream",
     "text": [
      "/home/aroma/miniconda3/envs/wm/lib/python3.9/site-packages/tqdm/auto.py:21: TqdmWarning: IProgress not found. Please update jupyter and ipywidgets. See https://ipywidgets.readthedocs.io/en/stable/user_install.html\n",
      "  from .autonotebook import tqdm as notebook_tqdm\n"
     ]
    }
   ],
   "source": [
    "import torch\n",
    "from watermark.auto_watermark import AutoWatermark\n",
    "from utils.transformers_config import TransformersConfig\n",
    "from transformers import AutoModelForCausalLM, AutoTokenizer\n",
    "# Device\n",
    "device = \"cuda\" if torch.cuda.is_available() else \"cpu\"\n"
   ]
  },
  {
   "cell_type": "code",
   "execution_count": 2,
   "metadata": {},
   "outputs": [],
   "source": [
    "transformers_config = TransformersConfig(\n",
    "    model=AutoModelForCausalLM.from_pretrained('facebook/opt-1.3b').to(device),\n",
    "    tokenizer=AutoTokenizer.from_pretrained('facebook/opt-1.3b'),\n",
    "    vocab_size=50272,\n",
    "    device=device,\n",
    "    max_new_tokens=200,\n",
    "    min_length=204,\n",
    "    do_sample=True,\n",
    "    no_repeat_ngram_size=4\n",
    ")"
   ]
  },
  {
   "cell_type": "code",
   "execution_count": 3,
   "metadata": {},
   "outputs": [],
   "source": [
    " \n",
    "# Load watermark algorithm\n",
    "myWatermark = AutoWatermark.load(\n",
    "    'KGW', \n",
    "    algorithm_config='config/KGW.json',\n",
    "    transformers_config=transformers_config\n",
    ")\n"
   ]
  },
  {
   "cell_type": "code",
   "execution_count": 4,
   "metadata": {},
   "outputs": [],
   "source": [
    "# Prompt\n",
    "prompt = 'Good Afternoon.'\n",
    "\n",
    "# Generate and detect\n",
    "watermarked_text = myWatermark.generate_watermarked_text(prompt)\n",
    "wm_detect_result = myWatermark.detect_watermark(watermarked_text)\n",
    "unwatermarked_text = myWatermark.generate_unwatermarked_text(prompt)\n",
    "unwm_detect_result = myWatermark.detect_watermark(unwatermarked_text)\n"
   ]
  },
  {
   "cell_type": "code",
   "execution_count": 5,
   "metadata": {},
   "outputs": [
    {
     "name": "stdout",
     "output_type": "stream",
     "text": [
      "Good Afternoon. Is there anything other than the weekly quests to farm mats besides buying the cheap and weak mats from vendors to upgrade my guns.  I'm a little new to the game trying to catch'em all but all I seem to be able to get is materials for some guns.  Can anyone help?\n",
      "Honestly, just do the daily daily daily daily missions. That should help, and if you do those daily (more or less), you get enough to lvl up all the guns you get. (assuming you're talking about gun crafting mats), which will level you up more, and increase the item level.  If not, buy a few daily \"quests\" from NPCs to increase the item  level.\n",
      "> If not, *buy the cheap and strong* **mats** from vendors toUpgrade my guns\n",
      "Ah, I see. I think the mats you get from leveling up guns are not that cheap, if they're in fact that cheap, and have no effect on item\n",
      "{'is_watermarked': True, 'score': 9.89625992944471}\n"
     ]
    }
   ],
   "source": [
    "print(watermarked_text)\n",
    "print(wm_detect_result)\n"
   ]
  },
  {
   "cell_type": "code",
   "execution_count": 6,
   "metadata": {},
   "outputs": [
    {
     "name": "stdout",
     "output_type": "stream",
     "text": [
      "Good Afternoon. Today, we'll discuss the different options out there for making the right decision when it comes to the stock market, along with some of the factors that need to be considered before investing. Let us begin with a quick overview of the recent market events, including what exactly caused them...\n",
      "\n",
      "About Us\n",
      "\n",
      "The team behind the site:\n",
      "\n",
      "David and Jim have been providing realtor/home owner information (both consumer based and for real estate professionals) since March, 2006. This was done as a way to help new home owners and real estate professionals make sound investment and buying decisions. Their mission now is to share their research with users of this community site for all their real estate needs.\n",
      "\n",
      "All information posted herein is deemed reliable but is not guaranteed to be accurate.\n",
      "User should independently confirm all information before relying on it. This site should not be used for offering personal financial advice. Always consult a professional for investment, tax, and legal advice.\n",
      "*Privacy Policy\n",
      "\n",
      "\n",
      "{'is_watermarked': False, 'score': 1.125756071568467}\n"
     ]
    }
   ],
   "source": [
    "print(unwatermarked_text)\n",
    "print(unwm_detect_result)"
   ]
  },
  {
   "cell_type": "code",
   "execution_count": 7,
   "metadata": {},
   "outputs": [],
   "source": [
    "with open('KGW_test.output.txt','w') as f:\n",
    "    l=[watermarked_text,wm_detect_result,unwatermarked_text,unwm_detect_result]\n",
    "    l=[str(item) for item in l]\n",
    "    f.write('\\n'.join(l))"
   ]
  },
  {
   "cell_type": "markdown",
   "metadata": {},
   "source": [
    "## Visualization"
   ]
  },
  {
   "cell_type": "code",
   "execution_count": 8,
   "metadata": {},
   "outputs": [],
   "source": [
    "import torch\n",
    "from visualize.font_settings import FontSettings\n",
    "from watermark.auto_watermark import AutoWatermark\n",
    "from utils.transformers_config import TransformersConfig\n",
    "from transformers import AutoModelForCausalLM, AutoTokenizer\n",
    "from visualize.visualizer import DiscreteVisualizer\n",
    "from visualize.legend_settings import DiscreteLegendSettings\n",
    "from visualize.page_layout_settings import PageLayoutSettings\n",
    "from visualize.color_scheme import ColorSchemeForDiscreteVisualization\n"
   ]
  },
  {
   "cell_type": "code",
   "execution_count": 9,
   "metadata": {},
   "outputs": [
    {
     "ename": "AttributeError",
     "evalue": "'ImageDraw' object has no attribute 'textsize'",
     "output_type": "error",
     "traceback": [
      "\u001b[0;31m---------------------------------------------------------------------------\u001b[0m",
      "\u001b[0;31mAttributeError\u001b[0m                            Traceback (most recent call last)",
      "Cell \u001b[0;32mIn[9], line 11\u001b[0m\n\u001b[1;32m      6\u001b[0m visualizer \u001b[38;5;241m=\u001b[39m DiscreteVisualizer(color_scheme\u001b[38;5;241m=\u001b[39mColorSchemeForDiscreteVisualization(),\n\u001b[1;32m      7\u001b[0m                                 font_settings\u001b[38;5;241m=\u001b[39mFontSettings(), \n\u001b[1;32m      8\u001b[0m                                 page_layout_settings\u001b[38;5;241m=\u001b[39mPageLayoutSettings(),\n\u001b[1;32m      9\u001b[0m                                 legend_settings\u001b[38;5;241m=\u001b[39mDiscreteLegendSettings())\n\u001b[1;32m     10\u001b[0m \u001b[38;5;66;03m# Visualize\u001b[39;00m\n\u001b[0;32m---> 11\u001b[0m watermarked_img \u001b[38;5;241m=\u001b[39m \u001b[43mvisualizer\u001b[49m\u001b[38;5;241;43m.\u001b[39;49m\u001b[43mvisualize\u001b[49m\u001b[43m(\u001b[49m\u001b[43mdata\u001b[49m\u001b[38;5;241;43m=\u001b[39;49m\u001b[43mwatermarked_data\u001b[49m\u001b[43m,\u001b[49m\u001b[43m \u001b[49m\n\u001b[1;32m     12\u001b[0m \u001b[43m                                       \u001b[49m\u001b[43mshow_text\u001b[49m\u001b[38;5;241;43m=\u001b[39;49m\u001b[38;5;28;43;01mTrue\u001b[39;49;00m\u001b[43m,\u001b[49m\u001b[43m \u001b[49m\n\u001b[1;32m     13\u001b[0m \u001b[43m                                       \u001b[49m\u001b[43mvisualize_weight\u001b[49m\u001b[38;5;241;43m=\u001b[39;49m\u001b[38;5;28;43;01mTrue\u001b[39;49;00m\u001b[43m,\u001b[49m\u001b[43m \u001b[49m\n\u001b[1;32m     14\u001b[0m \u001b[43m                                       \u001b[49m\u001b[43mdisplay_legend\u001b[49m\u001b[38;5;241;43m=\u001b[39;49m\u001b[38;5;28;43;01mTrue\u001b[39;49;00m\u001b[43m)\u001b[49m\n\u001b[1;32m     16\u001b[0m unwatermarked_img \u001b[38;5;241m=\u001b[39m visualizer\u001b[38;5;241m.\u001b[39mvisualize(data\u001b[38;5;241m=\u001b[39munwatermarked_data,\n\u001b[1;32m     17\u001b[0m                                          show_text\u001b[38;5;241m=\u001b[39m\u001b[38;5;28;01mTrue\u001b[39;00m, \n\u001b[1;32m     18\u001b[0m                                          visualize_weight\u001b[38;5;241m=\u001b[39m\u001b[38;5;28;01mTrue\u001b[39;00m, \n\u001b[1;32m     19\u001b[0m                                          display_legend\u001b[38;5;241m=\u001b[39m\u001b[38;5;28;01mTrue\u001b[39;00m)\n",
      "File \u001b[0;32m~/Code/watermark/visualize/visualizer.py:155\u001b[0m, in \u001b[0;36mBaseVisualizer.visualize\u001b[0;34m(self, data, show_text, visualize_weight, display_legend)\u001b[0m\n\u001b[1;32m    153\u001b[0m x \u001b[38;5;241m=\u001b[39m \u001b[38;5;28mself\u001b[39m\u001b[38;5;241m.\u001b[39mpage_layout_settings\u001b[38;5;241m.\u001b[39mmargin_l  \u001b[38;5;66;03m# Initial x-coordinate for each line\u001b[39;00m\n\u001b[1;32m    154\u001b[0m \u001b[38;5;28;01mfor\u001b[39;00m token, value \u001b[38;5;129;01min\u001b[39;00m line:\n\u001b[0;32m--> 155\u001b[0m     token_width, _ \u001b[38;5;241m=\u001b[39m \u001b[43mdraw\u001b[49m\u001b[38;5;241;43m.\u001b[39;49m\u001b[43mtextsize\u001b[49m(token, font\u001b[38;5;241m=\u001b[39m\u001b[38;5;28mself\u001b[39m\u001b[38;5;241m.\u001b[39mfont_settings\u001b[38;5;241m.\u001b[39mfont)\n\u001b[1;32m    157\u001b[0m     \u001b[38;5;66;03m# Highlight the token\u001b[39;00m\n\u001b[1;32m    158\u001b[0m     \u001b[38;5;28mself\u001b[39m\u001b[38;5;241m.\u001b[39m_highlight_single_token(draw, token, value, token_width, show_text, x, y)\n",
      "\u001b[0;31mAttributeError\u001b[0m: 'ImageDraw' object has no attribute 'textsize'"
     ]
    }
   ],
   "source": [
    "\n",
    "# Get data for visualization\n",
    "watermarked_data = myWatermark.get_data_for_visualization(watermarked_text)\n",
    "unwatermarked_data = myWatermark.get_data_for_visualization(unwatermarked_text)\n",
    "\n",
    "# Init visualizer\n",
    "visualizer = DiscreteVisualizer(color_scheme=ColorSchemeForDiscreteVisualization(),\n",
    "                                font_settings=FontSettings(), \n",
    "                                page_layout_settings=PageLayoutSettings(),\n",
    "                                legend_settings=DiscreteLegendSettings())\n",
    "# Visualize\n",
    "watermarked_img = visualizer.visualize(data=watermarked_data, \n",
    "                                       show_text=True, \n",
    "                                       visualize_weight=True, \n",
    "                                       display_legend=True)\n",
    "\n",
    "unwatermarked_img = visualizer.visualize(data=unwatermarked_data,\n",
    "                                         show_text=True, \n",
    "                                         visualize_weight=True, \n",
    "                                         display_legend=True)\n"
   ]
  },
  {
   "cell_type": "code",
   "execution_count": null,
   "metadata": {},
   "outputs": [],
   "source": [
    "\n",
    "# Save\n",
    "watermarked_img.save(\"KGW_watermarked.png\")\n",
    "unwatermarked_img.save(\"KGW_unwatermarked.png\")"
   ]
  }
 ],
 "metadata": {
  "kernelspec": {
   "display_name": "wm",
   "language": "python",
   "name": "python3"
  },
  "language_info": {
   "codemirror_mode": {
    "name": "ipython",
    "version": 3
   },
   "file_extension": ".py",
   "mimetype": "text/x-python",
   "name": "python",
   "nbconvert_exporter": "python",
   "pygments_lexer": "ipython3",
   "version": "3.9.20"
  }
 },
 "nbformat": 4,
 "nbformat_minor": 2
}
