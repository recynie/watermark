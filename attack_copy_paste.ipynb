{
 "cells": [
  {
   "cell_type": "code",
   "execution_count": 1,
   "metadata": {},
   "outputs": [],
   "source": [
    "import random\n",
    "import torch\n",
    "from sklearn.metrics import roc_auc_score, roc_curve\n",
    "import matplotlib.pyplot as plt\n",
    "from watermark.auto_watermark import AutoWatermark\n",
    "from utils.transformers_config import TransformersConfig\n",
    "from transformers import AutoModelForCausalLM, AutoTokenizer\n",
    "from openai import OpenAI\n",
    "# Device\n",
    "device = \"cuda\" if torch.cuda.is_available() else \"cpu\"\n"
   ]
  },
  {
   "cell_type": "code",
   "execution_count": 2,
   "metadata": {},
   "outputs": [],
   "source": [
    "transformers_config = TransformersConfig(\n",
    "    model=AutoModelForCausalLM.from_pretrained('facebook/opt-1.3b').to(device),\n",
    "    tokenizer=AutoTokenizer.from_pretrained('facebook/opt-1.3b'),\n",
    "    vocab_size=50272,\n",
    "    device=device,\n",
    "    max_new_tokens=200,\n",
    "    min_length=204,\n",
    "    do_sample=True,\n",
    "    no_repeat_ngram_size=4\n",
    ")"
   ]
  },
  {
   "cell_type": "code",
   "execution_count": 3,
   "metadata": {},
   "outputs": [],
   "source": [
    "myWatermark = AutoWatermark.load(\n",
    "    'Unigram', \n",
    "    algorithm_config='config/Unigram.json',\n",
    "    transformers_config=transformers_config\n",
    ")\n"
   ]
  },
  {
   "cell_type": "code",
   "execution_count": 6,
   "metadata": {},
   "outputs": [],
   "source": [
    "# 生成文本\n",
    "def generate_text(prompt):\n",
    "    client = OpenAI(\n",
    "    api_key=\"sk-VQhUCpASDoZc141KQz1gydCvgtJFgSaDi2YM6r0fRDZwnAmp\", # 在这里将 MOONSHOT_API_KEY 替换为你从 Kimi 开放平台申请的 API Key\n",
    "    base_url=\"https://api.moonshot.cn/v1\")\n",
    "    try:\n",
    "        completion = client.chat.completions.create(\n",
    "            model=\"moonshot-v1-8k\",\n",
    "            messages=[\n",
    "                {\"role\": \"system\", \"content\": \"你是 Kimi，由 Moonshot AI 提供的人工智能助手，你更擅长中文和英文的对话。你将为输入的prompt扩展上下文，一次至少扩充200字，而且你输出的语言与输入的语言语种一致。\"},\n",
    "                {\"role\": \"user\", \"content\": prompt}\n",
    "            ],\n",
    "            temperature=0.7  # 可调整生成文本的随机性\n",
    "        )\n",
    "        # 提取生成的内容\n",
    "        generated_text = completion.choices[0].message.content\n",
    "        return generated_text\n",
    "\n",
    "    except Exception as e:\n",
    "        print(f\"Error generating text: {e}\")\n",
    "        return \"抱歉，生成文本时发生错误，请稍后重试。\"\n"
   ]
  },
  {
   "cell_type": "code",
   "execution_count": null,
   "metadata": {},
   "outputs": [],
   "source": [
    "# 将水印文本插入到语义相关的人类文本中，同时控制水印比例，保证语义相关性\n",
    "def copy_paste_attack_multi_span(human_text, watermarked_text, num_spans=3, wm_ratio=0.1):\n",
    "    \"\"\"\n",
    "   用多个水印跨度模拟复制粘贴攻击。\n",
    "    - human_text： 人写的原始文本（字符串）。\n",
    "    - watermarked_text： 要插入的水印文本（字符串）。\n",
    "    - num_spans：要插入的跨度数。\n",
    "    - wm_ratio： 生成文档中水印标记的比例。\n",
    "    \"\"\"\n",
    "    human_tokens = human_text.split()\n",
    "    wm_tokens = watermarked_text.split()\n",
    "    wm_tokens_per_span = max(1, int(len(human_tokens) * wm_ratio / num_spans))\n",
    "    \n",
    "    # Split the watermarked tokens into spans\n",
    "    spans = [wm_tokens[i * wm_tokens_per_span:(i + 1) * wm_tokens_per_span] for i in range(num_spans)]\n",
    "    for span in spans:\n",
    "        insert_pos = random.randint(0, len(human_tokens))  # Random insertion position\n",
    "        human_tokens = human_tokens[:insert_pos] + span + human_tokens[insert_pos:]\n",
    "    return \" \".join(human_tokens)"
   ]
  },
  {
   "cell_type": "code",
   "execution_count": null,
   "metadata": {},
   "outputs": [],
   "source": [
    "# Evaluation: ROC-AUC Testing\n",
    "def evaluate_detection_AUC(num_samples, human_text_length, watermark_length, num_spans, wm_ratio):\n",
    "    \"\"\"\n",
    "    使用 ROC-AUC 评估复制粘贴攻击下的水印检测。\n",
    "    - num_samples（样本数）： 要测试的样本数。\n",
    "    - human_text_length： 人写文本的长度： 人工书写文本的长度。\n",
    "    - watermark_length：水印长度： 水印文本的长度。\n",
    "    - num_spans： 在复制粘贴攻击中插入的跨距数。\n",
    "    - wm_ratio： 生成文档中水印标记的比例。\n",
    "    \"\"\"\n",
    "    true_labels = []  # Ground truth: 1 for watermarked, 0 for human-written\n",
    "    detector_scores = []  # Detection scores from the watermark detector\n",
    "\n",
    "    for _ in range(num_samples):\n",
    "        # Generate human-written text and watermarked text\n",
    "        human_text = generate_text(\"I like fish.\")[:human_text_length]\n",
    "        watermarked_text = myWatermark.generate_watermarked_text(human_text)[:watermark_length]\n",
    "\n",
    "        # 50% samples are attacked with copy-paste\n",
    "        if random.random() < 0.5:\n",
    "            attacked_text = copy_paste_attack_multi_span(human_text, watermarked_text, num_spans, wm_ratio)\n",
    "            true_labels.append(1)\n",
    "        else:\n",
    "            attacked_text = human_text\n",
    "            true_labels.append(0)\n",
    "\n",
    "        # Detection score\n",
    "        detection_score = myWatermark.detect_watermark(attacked_text)\n",
    "        detector_scores.append(detection_score)\n",
    "\n",
    "    # Calculate AUC\n",
    "    auc = roc_auc_score(true_labels, detector_scores)\n",
    "    fpr, tpr, _ = roc_curve(true_labels, detector_scores)\n",
    "    \n",
    "    # Plot ROC Curve\n",
    "    plt.figure(figsize=(8, 6))\n",
    "    plt.plot(fpr, tpr, label=f\"AUC = {auc:.4f}\")\n",
    "    plt.xlabel(\"False Positive Rate\")\n",
    "    plt.ylabel(\"True Positive Rate\")\n",
    "    plt.title(\"ROC Curve for Watermark Detection under Copy-Paste Attack\")\n",
    "    plt.legend()\n",
    "    plt.show()\n",
    "\n",
    "    return auc\n"
   ]
  },
  {
   "cell_type": "code",
   "execution_count": null,
   "metadata": {},
   "outputs": [],
   "source": [
    "if __name__ == \"__main__\":\n",
    "    num_samples = 100  \n",
    "    human_text_length = 600  \n",
    "    watermark_length = 150  \n",
    "    num_spans = 3  \n",
    "    wm_ratio = 0.1  \n",
    "\n",
    "    auc = evaluate_detection_AUC(num_samples, human_text_length, watermark_length, num_spans, wm_ratio)\n",
    "    print(f\"ROC-AUC for Copy-Paste Attack: {auc:.4f}\")"
   ]
  }
 ],
 "metadata": {
  "kernelspec": {
   "display_name": "Watermark",
   "language": "python",
   "name": "python3"
  },
  "language_info": {
   "codemirror_mode": {
    "name": "ipython",
    "version": 3
   },
   "file_extension": ".py",
   "mimetype": "text/x-python",
   "name": "python",
   "nbconvert_exporter": "python",
   "pygments_lexer": "ipython3",
   "version": "3.9.21"
  }
 },
 "nbformat": 4,
 "nbformat_minor": 2
}
